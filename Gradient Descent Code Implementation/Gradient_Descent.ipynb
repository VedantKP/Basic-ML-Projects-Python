{
  "nbformat": 4,
  "nbformat_minor": 0,
  "metadata": {
    "colab": {
      "name": "Gradient_Descent.ipynb",
      "provenance": [],
      "collapsed_sections": []
    },
    "kernelspec": {
      "name": "python3",
      "display_name": "Python 3"
    }
  },
  "cells": [
    {
      "cell_type": "markdown",
      "metadata": {
        "id": "WdbphBsioFem"
      },
      "source": [
        "# Gradient Descent (Default slope)\n",
        "\n",
        "The program attempts to calculate the optimum value of the intercept in order to fit the line to the given data. Here, the least sum of squares method is used as a loss function and the slope is assumed to be set by default. Hence, here, the gradient descent algorithm attempts to optimize the value of the intercept."
      ]
    },
    {
      "cell_type": "code",
      "metadata": {
        "id": "uhuB80_pd2VX"
      },
      "source": [
        "import numpy as np\n",
        "import matplotlib.pyplot as plt\n",
        "import math\n",
        "from sympy import *\n",
        "from scipy.interpolate import  make_interp_spline,BSpline"
      ],
      "execution_count": null,
      "outputs": []
    },
    {
      "cell_type": "code",
      "metadata": {
        "id": "ifNoos_7fZ89"
      },
      "source": [
        "weights = [0.5,2.3,2.9]\n",
        "heights = [1.4,1.9,3.2]"
      ],
      "execution_count": null,
      "outputs": []
    },
    {
      "cell_type": "code",
      "metadata": {
        "id": "PG4NwOEanI-C"
      },
      "source": [
        "xlim_min = 0\n",
        "xlim_max = 4\n",
        "ylim_min = 0\n",
        "ylim_max = 4"
      ],
      "execution_count": null,
      "outputs": []
    },
    {
      "cell_type": "code",
      "metadata": {
        "id": "AgwgUncDf9aS",
        "colab": {
          "base_uri": "https://localhost:8080/",
          "height": 295
        },
        "outputId": "98505267-85de-4893-94fb-5930db1c9769"
      },
      "source": [
        "plt.scatter(weights,heights,s=60,c='green')\n",
        "plt.title('Data')\n",
        "plt.xlabel('Weight')\n",
        "plt.ylabel('Height')\n",
        "plt.xlim(xlim_min,xlim_max)\n",
        "plt.ylim(ylim_min,ylim_max)\n",
        "plt.show()"
      ],
      "execution_count": null,
      "outputs": [
        {
          "output_type": "display_data",
          "data": {
            "image/png": "[encoded data removed]",
            "text/plain": [
              "<Figure size 432x288 with 1 Axes>"
            ]
          },
          "metadata": {
            "tags": [],
            "needs_background": "light"
          }
        }
      ]
    },
    {
      "cell_type": "code",
      "metadata": {
        "id": "nk4iAo4zmRKr",
        "colab": {
          "base_uri": "https://localhost:8080/"
        },
        "outputId": "cc25c924-b8fa-4550-a0f9-13b84d8c0e54"
      },
      "source": [
        "#setting slope to 0.64\n",
        "slope = 0.64\n",
        "\n",
        "intercept_start = float(input('Enter initial value of intercept: '))\n",
        "min_step_size = float(input('Enter minimum step size: '))\n",
        "#print(intercept_start)\n",
        "max_steps = float(input('Enter maximum number of steps: '))\n",
        "learning_rate = float(input('Enter learning rate: '))"
      ],
      "execution_count": null,
      "outputs": [
        {
          "output_type": "stream",
          "text": [
            "Enter initial value of intercept: 0\n",
            "Enter minimum step size: 0.001\n",
            "Enter maximum number of steps: 100\n",
            "Enter learning rate: 0.1\n"
          ],
          "name": "stdout"
        }
      ]
    },
    {
      "cell_type": "markdown",
      "metadata": {
        "id": "4myUTixMop9_"
      },
      "source": [
        "**Sum of squares** = summation over all data((observed height-predicted height)^2)"
      ]
    },
    {
      "cell_type": "code",
      "metadata": {
        "id": "Dk_kcliJnww4",
        "colab": {
          "base_uri": "https://localhost:8080/"
        },
        "outputId": "616e9f3d-5774-4798-8e38-5eec198a1eeb"
      },
      "source": [
        "#c = intercept, x = weight\n",
        "\n",
        "x, c, m, y = symbols('x c m y')\n",
        "expr = []\n",
        "\n",
        "residual = (y - (c + m*x))**2 #equation\n",
        "der_obj = Derivative(residual,c) #Derivative object wrt c\n",
        "derivative = der_obj.doit() #Expression after derivation\n",
        "print('Derivative of expr wrt to c is: {}'.format(derivative))"
      ],
      "execution_count": null,
      "outputs": [
        {
          "output_type": "stream",
          "text": [
            "Derivative of expr wrt to c is: 2*c + 2*m*x - 2*y\n"
          ],
          "name": "stdout"
        }
      ]
    },
    {
      "cell_type": "code",
      "metadata": {
        "id": "0LyGSkTd1GPk"
      },
      "source": [
        "intercept_values = []\n",
        "intercept_values.append(intercept_start)"
      ],
      "execution_count": null,
      "outputs": []
    },
    {
      "cell_type": "code",
      "metadata": {
        "id": "w0Z-JXABr77q"
      },
      "source": [
        "intercept_val = intercept_start\n",
        "number_of_steps = 0\n",
        "while True:\n",
        "  for iter in range(len(weights)):\n",
        "    expr2 = derivative.subs([(c,intercept_val),(m,slope),(x,weights[iter]),(y,heights[iter])])\n",
        "    expr.append(round(expr2.evalf(),2))\n",
        "  slope_of_curve = float(sum(expr))\n",
        "  expr = []\n",
        "  #print('Slope is => {}'.format(slope_of_curve))\n",
        "  step_size = slope_of_curve * learning_rate\n",
        "  #print('Step Size = {}'.format(step_size))\n",
        "  intercept_val = intercept_val - step_size\n",
        "  #print('New Intercept = {}'.format(intercept_val))\n",
        "  number_of_steps = number_of_steps + 1 \n",
        "  #print('Number of steps = {}'.format(number_of_steps))\n",
        "  intercept_values.append(intercept_val)\n",
        "  #residual_scores.append()\n",
        "  if (abs(step_size) <= min_step_size or number_of_steps>=max_steps):\n",
        "    break"
      ],
      "execution_count": null,
      "outputs": []
    },
    {
      "cell_type": "code",
      "metadata": {
        "id": "AJWblfQEBBbZ",
        "colab": {
          "base_uri": "https://localhost:8080/"
        },
        "outputId": "d5b8dfce-3b7c-46b0-a87b-34df2acd7b9a"
      },
      "source": [
        "print(intercept_val)"
      ],
      "execution_count": null,
      "outputs": [
        {
          "output_type": "stream",
          "text": [
            "0.9510000000000002\n"
          ],
          "name": "stdout"
        }
      ]
    },
    {
      "cell_type": "code",
      "metadata": {
        "id": "1Fv5OJH5Lgg9"
      },
      "source": [
        "res_scores = []\n",
        "residual_scores = []"
      ],
      "execution_count": null,
      "outputs": []
    },
    {
      "cell_type": "code",
      "metadata": {
        "id": "iG8_LUZ6GeWt",
        "colab": {
          "base_uri": "https://localhost:8080/"
        },
        "outputId": "ea2f9751-7eac-4bde-81f7-6bdf1f76b931"
      },
      "source": [
        "for value in intercept_values:\n",
        "  for iter in range(len(weights)):\n",
        "    res_scores.append(residual.subs([(c,value),(m,slope),(x,weights[iter]),(y,heights[iter])]).evalf())   \n",
        "  residual_scores.append(sum(res_scores))\n",
        "  res_scores = []\n",
        "print(residual_scores)"
      ],
      "execution_count": null,
      "outputs": [
        {
          "output_type": "stream",
          "text": [
            "[3.15592000000000, 0.877059000000000, 0.513627000000000, 0.455660000000000, 0.446299000000000, 0.444899000000000, 0.444659000000000, 0.444627000000000, 0.444620000000000, 0.444619000000000, 0.444619000000000]\n"
          ],
          "name": "stdout"
        }
      ]
    },
    {
      "cell_type": "code",
      "metadata": {
        "id": "T4gRa2doMfw6",
        "colab": {
          "base_uri": "https://localhost:8080/",
          "height": 295
        },
        "outputId": "dab1d727-a809-49a7-8693-d3adb6dc38f5"
      },
      "source": [
        "plt.scatter(intercept_values,residual_scores,s=60,c='red')\n",
        "plt.plot(intercept_values,residual_scores)\n",
        "plt.xlabel('Intercepts')\n",
        "plt.ylabel('Sum of Square Residuals')\n",
        "plt.title('Gradient Descent')\n",
        "plt.xlim(-0.05,1.5)\n",
        "plt.show()"
      ],
      "execution_count": null,
      "outputs": [
        {
          "output_type": "display_data",
          "data": {
            "image/png": "[encoded data removed]",
            "text/plain": [
              "<Figure size 432x288 with 1 Axes>"
            ]
          },
          "metadata": {
            "tags": [],
            "needs_background": "light"
          }
        }
      ]
    }
  ]
}